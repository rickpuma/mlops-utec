{
 "cells": [
  {
   "cell_type": "code",
   "execution_count": 2,
   "id": "3e64f74b-ae16-4a86-b06a-00b974c068d1",
   "metadata": {},
   "outputs": [],
   "source": [
    "from sagemaker.workflow.function_step import step\n",
    "from sagemaker.workflow.pipeline import Pipeline\n",
    "import sagemaker\n",
    "from sagemaker.workflow.parameters import ParameterInteger"
   ]
  },
  {
   "cell_type": "markdown",
   "id": "6f9c4deb-e967-49b7-891a-2cda3fd68a21",
   "metadata": {},
   "source": [
    "# FUNCIONES"
   ]
  },
  {
   "cell_type": "code",
   "execution_count": 57,
   "id": "710ee9eb-0778-4b21-b5d4-42bf81b4d2f0",
   "metadata": {},
   "outputs": [],
   "source": [
    "pipeline_name = \"pipeline-prueba\"\n",
    "role = sagemaker.get_execution_role()\n",
    "#instance_type = \"ml.m5.xlarge\"\n",
    "#instance_type = \"ml.t3.medium\"\n",
    "instance_type = \"ml.m5.large\"\n",
    "periodo = ParameterInteger(name=\"PeriodoCarga\", default_value=202503)"
   ]
  },
  {
   "cell_type": "code",
   "execution_count": 58,
   "id": "dd6b0ad0-1479-428f-a620-c4ac24c54510",
   "metadata": {},
   "outputs": [],
   "source": [
    "@step(\n",
    "    name=\"DataPull\",\n",
    "    instance_type=instance_type,\n",
    ")\n",
    "def data_pull(data_source:str, periodo:int)->tuple[str,str]:\n",
    "    print(f\"Data pull from {data_source}\")\n",
    "    print(f\"Periodo:{periodo}\")\n",
    "    return \"s3://train_path\", \"s3://test_path\"\n",
    "    "
   ]
  },
  {
   "cell_type": "code",
   "execution_count": 59,
   "id": "25a09b95-69a5-4cf8-8634-7026d3f392ce",
   "metadata": {},
   "outputs": [],
   "source": [
    "@step(\n",
    "    name=\"ModelTraining\",\n",
    "    instance_type=instance_type,\n",
    ")\n",
    "def model_training(train_path:str, test_path:str,periodo:int)->str:\n",
    "    print(f\"Train set: {train_path} and test set:{test_path}\")\n",
    "    print(f\"Periodo:{periodo}\")\n",
    "    return \"model_path\""
   ]
  },
  {
   "cell_type": "code",
   "execution_count": 60,
   "id": "7efba39c-cca8-4492-9931-79c794be68ea",
   "metadata": {},
   "outputs": [],
   "source": [
    "data_pull_step = data_pull(\"s3:mybucket/data\",periodo)\n",
    "model_training_step = model_training(data_pull_step[0],data_pull_step[1],periodo)"
   ]
  },
  {
   "cell_type": "code",
   "execution_count": 61,
   "id": "525b4bb2-0019-4d97-9a9e-9d7dfb55f674",
   "metadata": {},
   "outputs": [
    {
     "name": "stderr",
     "output_type": "stream",
     "text": [
      "2025-06-01 00:58:53,486 sagemaker.remote_function INFO     Uploading serialized function code to s3://sagemaker-us-east-1-635106763104/pipeline-prueba/DataPull/2025-06-01-00-58-53-238/function\n",
      "2025-06-01 00:58:53,550 sagemaker.remote_function INFO     Uploading serialized function arguments to s3://sagemaker-us-east-1-635106763104/pipeline-prueba/DataPull/2025-06-01-00-58-53-238/arguments\n",
      "WARNING:sagemaker.workflow.utilities:Popping out 'TrainingJobName' from the pipeline definition by default since it will be overridden at pipeline execution time. Please utilize the PipelineDefinitionConfig to persist this field in the pipeline definition if desired.\n",
      "2025-06-01 00:58:53,773 sagemaker.remote_function INFO     Uploading serialized function code to s3://sagemaker-us-east-1-635106763104/pipeline-prueba/ModelTraining/2025-06-01-00-58-53-238/function\n",
      "2025-06-01 00:58:53,854 sagemaker.remote_function INFO     Uploading serialized function arguments to s3://sagemaker-us-east-1-635106763104/pipeline-prueba/ModelTraining/2025-06-01-00-58-53-238/arguments\n",
      "WARNING:sagemaker.workflow.utilities:Popping out 'TrainingJobName' from the pipeline definition by default since it will be overridden at pipeline execution time. Please utilize the PipelineDefinitionConfig to persist this field in the pipeline definition if desired.\n",
      "2025-06-01 00:58:54,280 sagemaker.remote_function INFO     Uploading serialized function code to s3://sagemaker-us-east-1-635106763104/pipeline-prueba/DataPull/2025-06-01-00-58-54-280/function\n",
      "2025-06-01 00:58:54,341 sagemaker.remote_function INFO     Uploading serialized function arguments to s3://sagemaker-us-east-1-635106763104/pipeline-prueba/DataPull/2025-06-01-00-58-54-280/arguments\n",
      "WARNING:sagemaker.workflow.utilities:Popping out 'TrainingJobName' from the pipeline definition by default since it will be overridden at pipeline execution time. Please utilize the PipelineDefinitionConfig to persist this field in the pipeline definition if desired.\n",
      "2025-06-01 00:58:54,546 sagemaker.remote_function INFO     Uploading serialized function code to s3://sagemaker-us-east-1-635106763104/pipeline-prueba/ModelTraining/2025-06-01-00-58-54-280/function\n",
      "2025-06-01 00:58:54,649 sagemaker.remote_function INFO     Uploading serialized function arguments to s3://sagemaker-us-east-1-635106763104/pipeline-prueba/ModelTraining/2025-06-01-00-58-54-280/arguments\n",
      "WARNING:sagemaker.workflow.utilities:Popping out 'TrainingJobName' from the pipeline definition by default since it will be overridden at pipeline execution time. Please utilize the PipelineDefinitionConfig to persist this field in the pipeline definition if desired.\n"
     ]
    },
    {
     "data": {
      "text/plain": [
       "{'PipelineArn': 'arn:aws:sagemaker:us-east-1:635106763104:pipeline/pipeline-prueba',\n",
       " 'ResponseMetadata': {'RequestId': '4a1eb3d1-488c-4cc5-80d7-7f045830d645',\n",
       "  'HTTPStatusCode': 200,\n",
       "  'HTTPHeaders': {'x-amzn-requestid': '4a1eb3d1-488c-4cc5-80d7-7f045830d645',\n",
       "   'content-type': 'application/x-amz-json-1.1',\n",
       "   'content-length': '83',\n",
       "   'date': 'Sun, 01 Jun 2025 00:58:55 GMT'},\n",
       "  'RetryAttempts': 0}}"
      ]
     },
     "execution_count": 61,
     "metadata": {},
     "output_type": "execute_result"
    }
   ],
   "source": [
    "pipeline = Pipeline(name=pipeline_name, steps=[data_pull_step, model_training_step], parameters=[periodo])\n",
    "pipeline.upsert(role_arn=role)"
   ]
  },
  {
   "cell_type": "code",
   "execution_count": 62,
   "id": "8a16eec8-8a74-4cdc-99d9-9f5291ebb63b",
   "metadata": {},
   "outputs": [
    {
     "data": {
      "text/plain": [
       "_PipelineExecution(arn='arn:aws:sagemaker:us-east-1:635106763104:pipeline/pipeline-prueba/execution/lcytyhv4x0gi', sagemaker_session=<sagemaker.session.Session object at 0x7f2f2947f200>)"
      ]
     },
     "execution_count": 62,
     "metadata": {},
     "output_type": "execute_result"
    }
   ],
   "source": [
    "pipeline.start(parameters={\"PeriodoCarga\":202505})"
   ]
  },
  {
   "cell_type": "code",
   "execution_count": null,
   "id": "166e793a-7882-4a82-9f27-664d1f38f037",
   "metadata": {},
   "outputs": [],
   "source": [
    "pipeline.upsert(role_arn=role)\n",
    "execution = pipeline.start()\n",
    "execution.describe()\n",
    "execution.wait()\n",
    "execution.list_steps()"
   ]
  },
  {
   "cell_type": "code",
   "execution_count": null,
   "id": "a98a0743-7f87-4770-9939-2f1b7625c2c5",
   "metadata": {},
   "outputs": [],
   "source": []
  },
  {
   "cell_type": "code",
   "execution_count": null,
   "id": "f12cd8af-b913-4048-b76f-d01696a04c06",
   "metadata": {},
   "outputs": [],
   "source": []
  },
  {
   "cell_type": "code",
   "execution_count": null,
   "id": "90046341-5562-41ad-9227-4a0f7d798333",
   "metadata": {},
   "outputs": [],
   "source": []
  },
  {
   "cell_type": "code",
   "execution_count": null,
   "id": "841dd0bb-5a4d-448d-856e-2cb18c045f7f",
   "metadata": {},
   "outputs": [],
   "source": []
  },
  {
   "cell_type": "markdown",
   "id": "1a6ddb46-f52e-4f6d-9ed1-f44e5bcfe718",
   "metadata": {},
   "source": [
    "# PIPELINE\n",
    "\n"
   ]
  },
  {
   "cell_type": "code",
   "execution_count": null,
   "id": "3eea8346-7701-4483-9c5f-c06ee64f856b",
   "metadata": {},
   "outputs": [],
   "source": []
  },
  {
   "cell_type": "code",
   "execution_count": null,
   "id": "02200b2b-63a0-464a-a8c7-fed43c7d4a3a",
   "metadata": {},
   "outputs": [],
   "source": []
  },
  {
   "cell_type": "code",
   "execution_count": null,
   "id": "9ebe23e8-8911-4613-ac04-dc5d61ce20e8",
   "metadata": {},
   "outputs": [],
   "source": []
  },
  {
   "cell_type": "code",
   "execution_count": null,
   "id": "49a5e491-261e-464f-b672-0faa1b7de950",
   "metadata": {},
   "outputs": [],
   "source": []
  },
  {
   "cell_type": "code",
   "execution_count": null,
   "id": "0373d430-14f6-4345-8cb1-75bd67e759b9",
   "metadata": {},
   "outputs": [],
   "source": []
  },
  {
   "cell_type": "code",
   "execution_count": null,
   "id": "2c69cce8-72a1-4de4-b568-a23f5c96ed73",
   "metadata": {},
   "outputs": [],
   "source": []
  },
  {
   "cell_type": "code",
   "execution_count": null,
   "id": "8cb8bb8f-51a4-485c-b69e-f1e2ea1564bf",
   "metadata": {},
   "outputs": [],
   "source": []
  },
  {
   "cell_type": "code",
   "execution_count": null,
   "id": "372e5605-c68f-424d-924f-539651947415",
   "metadata": {},
   "outputs": [],
   "source": []
  },
  {
   "cell_type": "code",
   "execution_count": null,
   "id": "4ad98ad7-f8ae-44bf-a596-5843eca81dff",
   "metadata": {},
   "outputs": [],
   "source": []
  },
  {
   "cell_type": "code",
   "execution_count": null,
   "id": "405c5dec-1831-440a-acff-7da2ad152dcc",
   "metadata": {},
   "outputs": [],
   "source": []
  }
 ],
 "metadata": {
  "kernelspec": {
   "display_name": "Python 3 (ipykernel)",
   "language": "python",
   "name": "python3"
  },
  "language_info": {
   "codemirror_mode": {
    "name": "ipython",
    "version": 3
   },
   "file_extension": ".py",
   "mimetype": "text/x-python",
   "name": "python",
   "nbconvert_exporter": "python",
   "pygments_lexer": "ipython3",
   "version": "3.12.9"
  }
 },
 "nbformat": 4,
 "nbformat_minor": 5
}
