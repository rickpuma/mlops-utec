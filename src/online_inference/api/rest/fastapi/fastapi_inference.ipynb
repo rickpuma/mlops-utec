{
 "cells": [
  {
   "cell_type": "code",
   "execution_count": 71,
   "id": "e5260361-8a55-4c88-abe6-e7ef2d06c8d2",
   "metadata": {
    "execution": {
     "iopub.execute_input": "2025-06-12T07:14:54.732147Z",
     "iopub.status.busy": "2025-06-12T07:14:54.731341Z",
     "iopub.status.idle": "2025-06-12T07:14:57.055816Z",
     "shell.execute_reply": "2025-06-12T07:14:57.055111Z",
     "shell.execute_reply.started": "2025-06-12T07:14:54.732112Z"
    }
   },
   "outputs": [],
   "source": [
    "import utils\n",
    "import sagemaker\n",
    "import json\n",
    "import mlflow"
   ]
  },
  {
   "cell_type": "code",
   "execution_count": 58,
   "id": "6dc441ba-c66a-47af-a538-98a6eb7e9841",
   "metadata": {
    "execution": {
     "iopub.execute_input": "2025-06-12T06:47:58.763436Z",
     "iopub.status.busy": "2025-06-12T06:47:58.762651Z",
     "iopub.status.idle": "2025-06-12T06:47:58.913024Z",
     "shell.execute_reply": "2025-06-12T06:47:58.912251Z",
     "shell.execute_reply.started": "2025-06-12T06:47:58.763406Z"
    }
   },
   "outputs": [
    {
     "data": {
      "text/plain": [
       "'arn:aws:iam::635106763104:role/service-role/SageMaker-ExecutionRole-20250524T225979'"
      ]
     },
     "execution_count": 58,
     "metadata": {},
     "output_type": "execute_result"
    }
   ],
   "source": [
    "# Detecting Execution Role\n",
    "sagemaker.get_execution_role()"
   ]
  },
  {
   "cell_type": "markdown",
   "id": "679de183-a3e3-4c50-bf09-1165270c8b5d",
   "metadata": {},
   "source": [
    "# Loading and saving the MLFlow model locally"
   ]
  },
  {
   "cell_type": "code",
   "execution_count": null,
   "id": "a5d937a1-948e-4df2-b176-620908b721c3",
   "metadata": {},
   "outputs": [],
   "source": [
    "# Set tracking server\n",
    "tracking_server_arn = 'arn:aws:sagemaker:us-east-1:654654589924:mlflow-tracking-server/mlops-utec-mlflow-server'\n",
    "mlflow.set_tracking_uri(tracking_server_arn)"
   ]
  },
  {
   "cell_type": "code",
   "execution_count": null,
   "id": "50e6b08e-d5b3-4edf-b6e3-2591431fcebf",
   "metadata": {},
   "outputs": [],
   "source": [
    "# Load model\n",
    "model_name = \"credit-card-fraud-detection\"\n",
    "model_version = \"latest\"\n",
    "model_uri = f\"models:/{model_name}/{model_version}\"\n",
    "model = mlflow.xgboost.load_model(model_uri)"
   ]
  },
  {
   "cell_type": "code",
   "execution_count": null,
   "id": "0f8765f5-429e-416b-a985-f80f82b4bdb4",
   "metadata": {},
   "outputs": [],
   "source": [
    "# Save model locally\n",
    "mlflow.xgboost.save_model(model,\"model\")"
   ]
  },
  {
   "cell_type": "markdown",
   "id": "93cfd575-caa6-4ffa-b33a-0930ae755803",
   "metadata": {},
   "source": [
    "# Checking current images"
   ]
  },
  {
   "cell_type": "code",
   "execution_count": 2,
   "id": "94c3b064-0df7-40de-9952-5fd9bc4b65ff",
   "metadata": {
    "execution": {
     "iopub.execute_input": "2025-06-12T06:04:43.039991Z",
     "iopub.status.busy": "2025-06-12T06:04:43.039303Z",
     "iopub.status.idle": "2025-06-12T06:04:43.228611Z",
     "shell.execute_reply": "2025-06-12T06:04:43.227628Z",
     "shell.execute_reply.started": "2025-06-12T06:04:43.039959Z"
    }
   },
   "outputs": [
    {
     "name": "stdout",
     "output_type": "stream",
     "text": [
      "REPOSITORY                                                                                                TAG       IMAGE ID       CREATED             SIZE\n",
      "635106763104.dkr.ecr.us-east-1.amazonaws.com/utec-mlops/ricardo-puma/online-prediction/api/rest/fastapi   latest    94ccfda130af   About an hour ago   2.43GB\n",
      "utec-mlops/ricardo-puma/online-prediction/api/rest/fastapi                                                latest    94ccfda130af   About an hour ago   2.43GB\n"
     ]
    }
   ],
   "source": [
    "!docker images"
   ]
  },
  {
   "cell_type": "markdown",
   "id": "aea19843-4e93-4160-b6bc-58c6eb78abd9",
   "metadata": {},
   "source": [
    "# Creating ECR repository"
   ]
  },
  {
   "cell_type": "code",
   "execution_count": 3,
   "id": "00b45614-6fce-4879-a492-5d48a8978b11",
   "metadata": {
    "execution": {
     "iopub.execute_input": "2025-06-12T06:04:48.971245Z",
     "iopub.status.busy": "2025-06-12T06:04:48.970913Z",
     "iopub.status.idle": "2025-06-12T06:04:48.979181Z",
     "shell.execute_reply": "2025-06-12T06:04:48.978322Z",
     "shell.execute_reply.started": "2025-06-12T06:04:48.971218Z"
    }
   },
   "outputs": [
    {
     "data": {
      "text/plain": [
       "'utec-mlops/ricardo-puma/online-prediction/api/rest/fastapi'"
      ]
     },
     "execution_count": 3,
     "metadata": {},
     "output_type": "execute_result"
    }
   ],
   "source": [
    "user = utils.get_username()\n",
    "repository_name = f\"utec-mlops/{user}/online-prediction/api/rest/fastapi\"\n",
    "repository_name"
   ]
  },
  {
   "cell_type": "code",
   "execution_count": 6,
   "id": "0d92dcd4-6f36-49b7-94a7-41e638399964",
   "metadata": {
    "execution": {
     "iopub.execute_input": "2025-06-11T22:38:24.633242Z",
     "iopub.status.busy": "2025-06-11T22:38:24.632967Z",
     "iopub.status.idle": "2025-06-11T22:38:25.761237Z",
     "shell.execute_reply": "2025-06-11T22:38:25.760286Z",
     "shell.execute_reply.started": "2025-06-11T22:38:24.633222Z"
    }
   },
   "outputs": [
    {
     "name": "stdout",
     "output_type": "stream",
     "text": [
      "{\n",
      "    \"repository\": {\n",
      "        \"repositoryArn\": \"arn:aws:ecr:us-east-1:635106763104:repository/utec-mlops/ricardo-puma/online-prediction/api/rest/fastapi\",\n",
      "        \"registryId\": \"635106763104\",\n",
      "        \"repositoryName\": \"utec-mlops/ricardo-puma/online-prediction/api/rest/fastapi\",\n",
      "        \"repositoryUri\": \"635106763104.dkr.ecr.us-east-1.amazonaws.com/utec-mlops/ricardo-puma/online-prediction/api/rest/fastapi\",\n",
      "        \"createdAt\": \"2025-06-11T22:38:25.455000+00:00\",\n",
      "        \"imageTagMutability\": \"MUTABLE\",\n",
      "        \"imageScanningConfiguration\": {\n",
      "            \"scanOnPush\": false\n",
      "        },\n",
      "        \"encryptionConfiguration\": {\n",
      "            \"encryptionType\": \"AES256\"\n",
      "        }\n",
      "    }\n",
      "}\n"
     ]
    }
   ],
   "source": [
    "!aws ecr create-repository --repository-name $repository_name"
   ]
  },
  {
   "cell_type": "markdown",
   "id": "1ad2a6b1-cee4-457f-8883-8ebffc31e33c",
   "metadata": {},
   "source": [
    "# Build image"
   ]
  },
  {
   "cell_type": "code",
   "execution_count": 163,
   "id": "7b9277ea-e646-4007-b145-d384aeaa8b9b",
   "metadata": {
    "execution": {
     "iopub.execute_input": "2025-06-12T04:42:53.544997Z",
     "iopub.status.busy": "2025-06-12T04:42:53.544395Z",
     "iopub.status.idle": "2025-06-12T04:44:26.922332Z",
     "shell.execute_reply": "2025-06-12T04:44:26.921655Z",
     "shell.execute_reply.started": "2025-06-12T04:42:53.544967Z"
    }
   },
   "outputs": [
    {
     "name": "stdout",
     "output_type": "stream",
     "text": [
      "DEPRECATED: The legacy builder is deprecated and will be removed in a future release.\n",
      "            BuildKit is currently disabled; enable it by removing the DOCKER_BUILDKIT=0\n",
      "            environment-variable.\n",
      "\n",
      "Sending build context to Docker daemon  200.2kB\n",
      "Step 1/8 : FROM python:3.8\n",
      " ---> 3ea6eaad4f17\n",
      "Step 2/8 : WORKDIR /app\n",
      " ---> Running in 98bbaf8672d9\n",
      " ---> Removed intermediate container 98bbaf8672d9\n",
      " ---> 0504a76ea731\n",
      "Step 3/8 : COPY model /app/model\n",
      " ---> 279631ffff8b\n",
      "Step 4/8 : COPY app.py requirements.txt /app/\n",
      " ---> 519dba380577\n",
      "Step 5/8 : RUN pip install --no-cache-dir -r requirements.txt\n",
      " ---> Running in 7b32b996efbf\n",
      "Collecting mlflow==2.13.2\n",
      "  Downloading mlflow-2.13.2-py3-none-any.whl (25.0 MB)\n",
      "     ━━━━━━━━━━━━━━━━━━━━━━━━━━━━━━━━━━━━━━━ 25.0/25.0 MB 216.2 MB/s eta 0:00:00\n",
      "Collecting xgboost==2.1.4\n",
      "  Downloading xgboost-2.1.4-py3-none-manylinux_2_28_x86_64.whl (223.6 MB)\n",
      "     ━━━━━━━━━━━━━━━━━━━━━━━━━━━━━━━━━━━━━ 223.6/223.6 MB 196.5 MB/s eta 0:00:00\n",
      "Collecting numpy\n",
      "  Downloading numpy-1.24.4-cp38-cp38-manylinux_2_17_x86_64.manylinux2014_x86_64.whl (17.3 MB)\n",
      "     ━━━━━━━━━━━━━━━━━━━━━━━━━━━━━━━━━━━━━━━ 17.3/17.3 MB 221.1 MB/s eta 0:00:00\n",
      "Collecting fastapi\n",
      "  Downloading fastapi-0.115.12-py3-none-any.whl (95 kB)\n",
      "     ━━━━━━━━━━━━━━━━━━━━━━━━━━━━━━━━━━━━━━━ 95.2/95.2 kB 175.8 MB/s eta 0:00:00\n",
      "Collecting uvicorn\n",
      "  Downloading uvicorn-0.33.0-py3-none-any.whl (62 kB)\n",
      "     ━━━━━━━━━━━━━━━━━━━━━━━━━━━━━━━━━━━━━━━ 62.3/62.3 kB 192.8 MB/s eta 0:00:00\n",
      "Collecting click<9,>=7.0\n",
      "  Downloading click-8.1.8-py3-none-any.whl (98 kB)\n",
      "     ━━━━━━━━━━━━━━━━━━━━━━━━━━━━━━━━━━━━━━━ 98.2/98.2 kB 230.0 MB/s eta 0:00:00\n",
      "Collecting scipy<2\n",
      "  Downloading scipy-1.10.1-cp38-cp38-manylinux_2_17_x86_64.manylinux2014_x86_64.whl (34.5 MB)\n",
      "     ━━━━━━━━━━━━━━━━━━━━━━━━━━━━━━━━━━━━━━━ 34.5/34.5 MB 229.9 MB/s eta 0:00:00\n",
      "Collecting pytz<2025\n",
      "  Downloading pytz-2024.2-py2.py3-none-any.whl (508 kB)\n",
      "     ━━━━━━━━━━━━━━━━━━━━━━━━━━━━━━━━━━━━━ 508.0/508.0 kB 275.6 MB/s eta 0:00:00\n",
      "Collecting pyarrow<16,>=4.0.0\n",
      "  Downloading pyarrow-15.0.2-cp38-cp38-manylinux_2_28_x86_64.whl (38.4 MB)\n",
      "     ━━━━━━━━━━━━━━━━━━━━━━━━━━━━━━━━━━━━━━━ 38.4/38.4 MB 227.8 MB/s eta 0:00:00\n",
      "Collecting entrypoints<1\n",
      "  Downloading entrypoints-0.4-py3-none-any.whl (5.3 kB)\n",
      "Collecting matplotlib<4\n",
      "  Downloading matplotlib-3.7.5-cp38-cp38-manylinux_2_12_x86_64.manylinux2010_x86_64.whl (9.2 MB)\n",
      "     ━━━━━━━━━━━━━━━━━━━━━━━━━━━━━━━━━━━━━━━━ 9.2/9.2 MB 221.4 MB/s eta 0:00:00\n",
      "Collecting opentelemetry-api<3,>=1.0.0\n",
      "  Downloading opentelemetry_api-1.33.1-py3-none-any.whl (65 kB)\n",
      "     ━━━━━━━━━━━━━━━━━━━━━━━━━━━━━━━━━━━━━━━ 65.8/65.8 kB 204.6 MB/s eta 0:00:00\n",
      "Collecting cloudpickle<4\n",
      "  Downloading cloudpickle-3.1.1-py3-none-any.whl (20 kB)\n",
      "Collecting scikit-learn<2\n",
      "  Downloading scikit_learn-1.3.2-cp38-cp38-manylinux_2_17_x86_64.manylinux2014_x86_64.whl (11.1 MB)\n",
      "     ━━━━━━━━━━━━━━━━━━━━━━━━━━━━━━━━━━━━━━━ 11.1/11.1 MB 228.3 MB/s eta 0:00:00\n",
      "Collecting packaging<25\n",
      "  Downloading packaging-24.2-py3-none-any.whl (65 kB)\n",
      "     ━━━━━━━━━━━━━━━━━━━━━━━━━━━━━━━━━━━━━━━ 65.5/65.5 kB 202.8 MB/s eta 0:00:00\n",
      "Collecting gitpython<4,>=3.1.9\n",
      "  Downloading GitPython-3.1.44-py3-none-any.whl (207 kB)\n",
      "     ━━━━━━━━━━━━━━━━━━━━━━━━━━━━━━━━━━━━━ 207.6/207.6 kB 231.1 MB/s eta 0:00:00\n",
      "Collecting importlib-metadata!=4.7.0,<8,>=3.7.0\n",
      "  Downloading importlib_metadata-7.2.1-py3-none-any.whl (25 kB)\n",
      "Collecting requests<3,>=2.17.3\n",
      "  Downloading requests-2.32.4-py3-none-any.whl (64 kB)\n",
      "     ━━━━━━━━━━━━━━━━━━━━━━━━━━━━━━━━━━━━━━━ 64.8/64.8 kB 204.2 MB/s eta 0:00:00\n",
      "Collecting opentelemetry-sdk<3,>=1.0.0\n",
      "  Downloading opentelemetry_sdk-1.33.1-py3-none-any.whl (118 kB)\n",
      "     ━━━━━━━━━━━━━━━━━━━━━━━━━━━━━━━━━━━━━ 119.0/119.0 kB 228.5 MB/s eta 0:00:00\n",
      "Collecting pandas<3\n",
      "  Downloading pandas-2.0.3-cp38-cp38-manylinux_2_17_x86_64.manylinux2014_x86_64.whl (12.4 MB)\n",
      "     ━━━━━━━━━━━━━━━━━━━━━━━━━━━━━━━━━━━━━━━ 12.4/12.4 MB 197.0 MB/s eta 0:00:00\n",
      "Collecting protobuf<5,>=3.12.0\n",
      "  Downloading protobuf-4.25.8-cp37-abi3-manylinux2014_x86_64.whl (294 kB)\n",
      "     ━━━━━━━━━━━━━━━━━━━━━━━━━━━━━━━━━━━━━ 294.9/294.9 kB 239.8 MB/s eta 0:00:00\n",
      "Collecting cachetools<6,>=5.0.0\n",
      "  Downloading cachetools-5.5.2-py3-none-any.whl (10 kB)\n",
      "Collecting markdown<4,>=3.3\n",
      "  Downloading Markdown-3.7-py3-none-any.whl (106 kB)\n",
      "     ━━━━━━━━━━━━━━━━━━━━━━━━━━━━━━━━━━━━━ 106.3/106.3 kB 204.4 MB/s eta 0:00:00\n",
      "Collecting pyyaml<7,>=5.1\n",
      "  Downloading PyYAML-6.0.2-cp38-cp38-manylinux_2_17_x86_64.manylinux2014_x86_64.whl (746 kB)\n",
      "     ━━━━━━━━━━━━━━━━━━━━━━━━━━━━━━━━━━━━━ 746.5/746.5 kB 248.9 MB/s eta 0:00:00\n",
      "Collecting querystring-parser<2\n",
      "  Downloading querystring_parser-1.2.4-py2.py3-none-any.whl (7.9 kB)\n",
      "Collecting docker<8,>=4.0.0\n",
      "  Downloading docker-7.1.0-py3-none-any.whl (147 kB)\n",
      "     ━━━━━━━━━━━━━━━━━━━━━━━━━━━━━━━━━━━━━ 147.8/147.8 kB 218.7 MB/s eta 0:00:00\n",
      "Collecting sqlalchemy<3,>=1.4.0\n",
      "  Downloading sqlalchemy-2.0.41-cp38-cp38-manylinux_2_17_x86_64.manylinux2014_x86_64.whl (3.2 MB)\n",
      "     ━━━━━━━━━━━━━━━━━━━━━━━━━━━━━━━━━━━━━━━━ 3.2/3.2 MB 211.0 MB/s eta 0:00:00\n",
      "Collecting Flask<4\n",
      "  Downloading flask-3.0.3-py3-none-any.whl (101 kB)\n",
      "     ━━━━━━━━━━━━━━━━━━━━━━━━━━━━━━━━━━━━━ 101.7/101.7 kB 163.5 MB/s eta 0:00:00\n",
      "Collecting alembic!=1.10.0,<2\n",
      "  Downloading alembic-1.14.1-py3-none-any.whl (233 kB)\n",
      "     ━━━━━━━━━━━━━━━━━━━━━━━━━━━━━━━━━━━━━ 233.6/233.6 kB 256.6 MB/s eta 0:00:00\n",
      "Collecting sqlparse<1,>=0.4.0\n",
      "  Downloading sqlparse-0.5.3-py3-none-any.whl (44 kB)\n",
      "     ━━━━━━━━━━━━━━━━━━━━━━━━━━━━━━━━━━━━━━━ 44.4/44.4 kB 160.0 MB/s eta 0:00:00\n",
      "Collecting Jinja2<4,>=2.11\n",
      "  Downloading jinja2-3.1.6-py3-none-any.whl (134 kB)\n",
      "     ━━━━━━━━━━━━━━━━━━━━━━━━━━━━━━━━━━━━━ 134.9/134.9 kB 226.9 MB/s eta 0:00:00\n",
      "Collecting graphene<4\n",
      "  Downloading graphene-3.4.3-py2.py3-none-any.whl (114 kB)\n",
      "     ━━━━━━━━━━━━━━━━━━━━━━━━━━━━━━━━━━━━━ 114.9/114.9 kB 233.5 MB/s eta 0:00:00\n",
      "Collecting gunicorn<23\n",
      "  Downloading gunicorn-22.0.0-py3-none-any.whl (84 kB)\n",
      "     ━━━━━━━━━━━━━━━━━━━━━━━━━━━━━━━━━━━━━━━ 84.4/84.4 kB 214.9 MB/s eta 0:00:00\n",
      "Collecting nvidia-nccl-cu12\n",
      "  Downloading nvidia_nccl_cu12-2.27.3-py3-none-manylinux2014_x86_64.manylinux_2_17_x86_64.whl (322.4 MB)\n",
      "     ━━━━━━━━━━━━━━━━━━━━━━━━━━━━━━━━━━━━━ 322.4/322.4 MB 204.9 MB/s eta 0:00:00\n",
      "Collecting starlette<0.47.0,>=0.40.0\n",
      "  Downloading starlette-0.44.0-py3-none-any.whl (73 kB)\n",
      "     ━━━━━━━━━━━━━━━━━━━━━━━━━━━━━━━━━━━━━━━━ 73.4/73.4 kB 23.8 MB/s eta 0:00:00\n",
      "Collecting typing-extensions>=4.8.0\n",
      "  Downloading typing_extensions-4.13.2-py3-none-any.whl (45 kB)\n",
      "     ━━━━━━━━━━━━━━━━━━━━━━━━━━━━━━━━━━━━━━━ 45.8/45.8 kB 100.3 MB/s eta 0:00:00\n",
      "Collecting pydantic!=1.8,!=1.8.1,!=2.0.0,!=2.0.1,!=2.1.0,<3.0.0,>=1.7.4\n",
      "  Downloading pydantic-2.10.6-py3-none-any.whl (431 kB)\n",
      "     ━━━━━━━━━━━━━━━━━━━━━━━━━━━━━━━━━━━━━ 431.7/431.7 kB 248.3 MB/s eta 0:00:00\n",
      "Collecting h11>=0.8\n",
      "  Downloading h11-0.16.0-py3-none-any.whl (37 kB)\n",
      "Collecting Mako\n",
      "  Downloading mako-1.3.10-py3-none-any.whl (78 kB)\n",
      "     ━━━━━━━━━━━━━━━━━━━━━━━━━━━━━━━━━━━━━━━ 78.5/78.5 kB 201.0 MB/s eta 0:00:00\n",
      "Collecting importlib-resources\n",
      "  Downloading importlib_resources-6.4.5-py3-none-any.whl (36 kB)\n",
      "Collecting urllib3>=1.26.0\n",
      "  Downloading urllib3-2.2.3-py3-none-any.whl (126 kB)\n",
      "     ━━━━━━━━━━━━━━━━━━━━━━━━━━━━━━━━━━━━━ 126.3/126.3 kB 222.8 MB/s eta 0:00:00\n",
      "Collecting Werkzeug>=3.0.0\n",
      "  Downloading werkzeug-3.0.6-py3-none-any.whl (227 kB)\n",
      "     ━━━━━━━━━━━━━━━━━━━━━━━━━━━━━━━━━━━━━ 228.0/228.0 kB 216.1 MB/s eta 0:00:00\n",
      "Collecting blinker>=1.6.2\n",
      "  Downloading blinker-1.8.2-py3-none-any.whl (9.5 kB)\n",
      "Collecting itsdangerous>=2.1.2\n",
      "  Downloading itsdangerous-2.2.0-py3-none-any.whl (16 kB)\n",
      "Collecting gitdb<5,>=4.0.1\n",
      "  Downloading gitdb-4.0.12-py3-none-any.whl (62 kB)\n",
      "     ━━━━━━━━━━━━━━━━━━━━━━━━━━━━━━━━━━━━━━━ 62.8/62.8 kB 186.3 MB/s eta 0:00:00\n",
      "Collecting graphql-core<3.3,>=3.1\n",
      "  Downloading graphql_core-3.2.6-py3-none-any.whl (203 kB)\n",
      "     ━━━━━━━━━━━━━━━━━━━━━━━━━━━━━━━━━━━━━ 203.4/203.4 kB 243.5 MB/s eta 0:00:00\n",
      "Collecting graphql-relay<3.3,>=3.1\n",
      "  Downloading graphql_relay-3.2.0-py3-none-any.whl (16 kB)\n",
      "Collecting python-dateutil<3,>=2.7.0\n",
      "  Downloading python_dateutil-2.9.0.post0-py2.py3-none-any.whl (229 kB)\n",
      "     ━━━━━━━━━━━━━━━━━━━━━━━━━━━━━━━━━━━━━ 229.9/229.9 kB 241.5 MB/s eta 0:00:00\n",
      "Collecting zipp>=0.5\n",
      "  Downloading zipp-3.20.2-py3-none-any.whl (9.2 kB)\n",
      "Collecting MarkupSafe>=2.0\n",
      "  Downloading MarkupSafe-2.1.5-cp38-cp38-manylinux_2_17_x86_64.manylinux2014_x86_64.whl (26 kB)\n",
      "Collecting cycler>=0.10\n",
      "  Downloading cycler-0.12.1-py3-none-any.whl (8.3 kB)\n",
      "Collecting contourpy>=1.0.1\n",
      "  Downloading contourpy-1.1.1-cp38-cp38-manylinux_2_17_x86_64.manylinux2014_x86_64.whl (301 kB)\n",
      "     ━━━━━━━━━━━━━━━━━━━━━━━━━━━━━━━━━━━━━ 301.1/301.1 kB 222.3 MB/s eta 0:00:00\n",
      "Collecting pyparsing>=2.3.1\n",
      "  Downloading pyparsing-3.1.4-py3-none-any.whl (104 kB)\n",
      "     ━━━━━━━━━━━━━━━━━━━━━━━━━━━━━━━━━━━━━ 104.1/104.1 kB 161.6 MB/s eta 0:00:00\n",
      "Collecting kiwisolver>=1.0.1\n",
      "  Downloading kiwisolver-1.4.7-cp38-cp38-manylinux_2_5_x86_64.manylinux1_x86_64.whl (1.2 MB)\n",
      "     ━━━━━━━━━━━━━━━━━━━━━━━━━━━━━━━━━━━━━━━━ 1.2/1.2 MB 228.1 MB/s eta 0:00:00\n",
      "Collecting pillow>=6.2.0\n",
      "  Downloading pillow-10.4.0-cp38-cp38-manylinux_2_28_x86_64.whl (4.5 MB)\n",
      "     ━━━━━━━━━━━━━━━━━━━━━━━━━━━━━━━━━━━━━━━━ 4.5/4.5 MB 220.2 MB/s eta 0:00:00\n",
      "Collecting fonttools>=4.22.0\n",
      "  Downloading fonttools-4.57.0-cp38-cp38-manylinux_2_17_x86_64.manylinux2014_x86_64.whl (4.7 MB)\n",
      "     ━━━━━━━━━━━━━━━━━━━━━━━━━━━━━━━━━━━━━━━━ 4.7/4.7 MB 216.0 MB/s eta 0:00:00\n",
      "Collecting deprecated>=1.2.6\n",
      "  Downloading Deprecated-1.2.18-py2.py3-none-any.whl (10.0 kB)\n",
      "Collecting opentelemetry-semantic-conventions==0.54b1\n",
      "  Downloading opentelemetry_semantic_conventions-0.54b1-py3-none-any.whl (194 kB)\n",
      "     ━━━━━━━━━━━━━━━━━━━━━━━━━━━━━━━━━━━━━ 194.9/194.9 kB 114.3 MB/s eta 0:00:00\n",
      "Collecting tzdata>=2022.1\n",
      "  Downloading tzdata-2025.2-py2.py3-none-any.whl (347 kB)\n",
      "     ━━━━━━━━━━━━━━━━━━━━━━━━━━━━━━━━━━━━━ 347.8/347.8 kB 248.2 MB/s eta 0:00:00\n",
      "Collecting pydantic-core==2.27.2\n",
      "  Downloading pydantic_core-2.27.2-cp38-cp38-manylinux_2_17_x86_64.manylinux2014_x86_64.whl (2.0 MB)\n",
      "     ━━━━━━━━━━━━━━━━━━━━━━━━━━━━━━━━━━━━━━━━ 2.0/2.0 MB 187.9 MB/s eta 0:00:00\n",
      "Collecting annotated-types>=0.6.0\n",
      "  Downloading annotated_types-0.7.0-py3-none-any.whl (13 kB)\n",
      "Collecting six\n",
      "  Downloading six-1.17.0-py2.py3-none-any.whl (11 kB)\n",
      "Collecting idna<4,>=2.5\n",
      "  Downloading idna-3.10-py3-none-any.whl (70 kB)\n",
      "     ━━━━━━━━━━━━━━━━━━━━━━━━━━━━━━━━━━━━━━━ 70.4/70.4 kB 175.2 MB/s eta 0:00:00\n",
      "Collecting charset_normalizer<4,>=2\n",
      "  Downloading charset_normalizer-3.4.2-cp38-cp38-manylinux_2_17_x86_64.manylinux2014_x86_64.whl (147 kB)\n",
      "     ━━━━━━━━━━━━━━━━━━━━━━━━━━━━━━━━━━━━━ 147.4/147.4 kB 232.4 MB/s eta 0:00:00\n",
      "Collecting certifi>=2017.4.17\n",
      "  Downloading certifi-2025.4.26-py3-none-any.whl (159 kB)\n",
      "     ━━━━━━━━━━━━━━━━━━━━━━━━━━━━━━━━━━━━━ 159.6/159.6 kB 247.5 MB/s eta 0:00:00\n",
      "Collecting joblib>=1.1.1\n",
      "  Downloading joblib-1.4.2-py3-none-any.whl (301 kB)\n",
      "     ━━━━━━━━━━━━━━━━━━━━━━━━━━━━━━━━━━━━━ 301.8/301.8 kB 245.6 MB/s eta 0:00:00\n",
      "Collecting threadpoolctl>=2.0.0\n",
      "  Downloading threadpoolctl-3.5.0-py3-none-any.whl (18 kB)\n",
      "Collecting greenlet>=1\n",
      "  Downloading greenlet-3.1.1-cp38-cp38-manylinux_2_24_x86_64.manylinux_2_28_x86_64.whl (605 kB)\n",
      "     ━━━━━━━━━━━━━━━━━━━━━━━━━━━━━━━━━━━━━ 606.0/606.0 kB 207.4 MB/s eta 0:00:00\n",
      "Collecting anyio<5,>=3.4.0\n",
      "  Downloading anyio-4.5.2-py3-none-any.whl (89 kB)\n",
      "     ━━━━━━━━━━━━━━━━━━━━━━━━━━━━━━━━━━━━━━━ 89.8/89.8 kB 218.7 MB/s eta 0:00:00\n",
      "Collecting sniffio>=1.1\n",
      "  Downloading sniffio-1.3.1-py3-none-any.whl (10 kB)\n",
      "Collecting exceptiongroup>=1.0.2\n",
      "  Downloading exceptiongroup-1.3.0-py3-none-any.whl (16 kB)\n",
      "Collecting wrapt<2,>=1.10\n",
      "  Downloading wrapt-1.17.2-cp38-cp38-manylinux_2_5_x86_64.manylinux1_x86_64.manylinux_2_17_x86_64.manylinux2014_x86_64.whl (85 kB)\n",
      "     ━━━━━━━━━━━━━━━━━━━━━━━━━━━━━━━━━━━━━━━ 85.6/85.6 kB 220.0 MB/s eta 0:00:00\n",
      "Collecting smmap<6,>=3.0.1\n",
      "  Downloading smmap-5.0.2-py3-none-any.whl (24 kB)\n",
      "Installing collected packages: pytz, zipp, wrapt, urllib3, tzdata, typing-extensions, threadpoolctl, sqlparse, sniffio, smmap, six, pyyaml, pyparsing, protobuf, pillow, packaging, nvidia-nccl-cu12, numpy, MarkupSafe, kiwisolver, joblib, itsdangerous, idna, h11, greenlet, fonttools, entrypoints, cycler, cloudpickle, click, charset_normalizer, certifi, cachetools, blinker, Werkzeug, uvicorn, sqlalchemy, scipy, requests, querystring-parser, python-dateutil, pydantic-core, pyarrow, Mako, Jinja2, importlib-resources, importlib-metadata, gunicorn, graphql-core, gitdb, exceptiongroup, deprecated, contourpy, annotated-types, xgboost, scikit-learn, pydantic, pandas, opentelemetry-api, matplotlib, markdown, graphql-relay, gitpython, Flask, docker, anyio, alembic, starlette, opentelemetry-semantic-conventions, graphene, opentelemetry-sdk, fastapi, mlflow\n",
      "Successfully installed Flask-3.0.3 Jinja2-3.1.6 Mako-1.3.10 MarkupSafe-2.1.5 Werkzeug-3.0.6 alembic-1.14.1 annotated-types-0.7.0 anyio-4.5.2 blinker-1.8.2 cachetools-5.5.2 certifi-2025.4.26 charset_normalizer-3.4.2 click-8.1.8 cloudpickle-3.1.1 contourpy-1.1.1 cycler-0.12.1 deprecated-1.2.18 docker-7.1.0 entrypoints-0.4 exceptiongroup-1.3.0 fastapi-0.115.12 fonttools-4.57.0 gitdb-4.0.12 gitpython-3.1.44 graphene-3.4.3 graphql-core-3.2.6 graphql-relay-3.2.0 greenlet-3.1.1 gunicorn-22.0.0 h11-0.16.0 idna-3.10 importlib-metadata-7.2.1 importlib-resources-6.4.5 itsdangerous-2.2.0 joblib-1.4.2 kiwisolver-1.4.7 markdown-3.7 matplotlib-3.7.5 mlflow-2.13.2 numpy-1.24.4 nvidia-nccl-cu12-2.27.3 opentelemetry-api-1.33.1 opentelemetry-sdk-1.33.1 opentelemetry-semantic-conventions-0.54b1 packaging-24.2 pandas-2.0.3 pillow-10.4.0 protobuf-4.25.8 pyarrow-15.0.2 pydantic-2.10.6 pydantic-core-2.27.2 pyparsing-3.1.4 python-dateutil-2.9.0.post0 pytz-2024.2 pyyaml-6.0.2 querystring-parser-1.2.4 requests-2.32.4 scikit-learn-1.3.2 scipy-1.10.1 six-1.17.0 smmap-5.0.2 sniffio-1.3.1 sqlalchemy-2.0.41 sqlparse-0.5.3 starlette-0.44.0 threadpoolctl-3.5.0 typing-extensions-4.13.2 tzdata-2025.2 urllib3-2.2.3 uvicorn-0.33.0 wrapt-1.17.2 xgboost-2.1.4 zipp-3.20.2\n",
      "\u001b[91mWARNING: Running pip as the 'root' user can result in broken permissions and conflicting behaviour with the system package manager. It is recommended to use a virtual environment instead: https://pip.pypa.io/warnings/venv\n",
      "\u001b[0m\u001b[91m\n",
      "[notice] A new release of pip is available: 23.0.1 -> 25.0.1\n",
      "[notice] To update, run: pip install --upgrade pip\n",
      "\u001b[0m ---> Removed intermediate container 7b32b996efbf\n",
      " ---> 2a0678e862a3\n",
      "Step 6/8 : EXPOSE 8000\n",
      " ---> Running in c0af6bb64a56\n",
      " ---> Removed intermediate container c0af6bb64a56\n",
      " ---> 5a3dac65a8e9\n",
      "Step 7/8 : CMD [\"uvicorn\", \"app:app\", \"--host\", \"0.0.0.0\", \"--port\", \"8000\"]\n",
      " ---> Running in f844a3d9c075\n",
      " ---> Removed intermediate container f844a3d9c075\n",
      " ---> fdedb3fe8f44\n",
      "Step 8/8 : LABEL com.amazon.studio.user.resources=true\n",
      " ---> Running in 200ec0ea6e9d\n",
      " ---> Removed intermediate container 200ec0ea6e9d\n",
      " ---> 94ccfda130af\n",
      "Successfully built 94ccfda130af\n",
      "Successfully tagged utec-mlops/ricardo-puma/online-prediction/api/rest/fastapi:latest\n"
     ]
    }
   ],
   "source": [
    "!docker build --network sagemaker --no-cache -t $repository_name ."
   ]
  },
  {
   "cell_type": "markdown",
   "id": "2c222cc0-bfce-4ea3-adbb-6a5839232f76",
   "metadata": {},
   "source": [
    "# Checking current images"
   ]
  },
  {
   "cell_type": "code",
   "execution_count": 164,
   "id": "0a0c2aa5-cf65-49be-baa3-483a832b7e6c",
   "metadata": {
    "execution": {
     "iopub.execute_input": "2025-06-12T04:44:33.579421Z",
     "iopub.status.busy": "2025-06-12T04:44:33.578715Z",
     "iopub.status.idle": "2025-06-12T04:44:33.790489Z",
     "shell.execute_reply": "2025-06-12T04:44:33.789708Z",
     "shell.execute_reply.started": "2025-06-12T04:44:33.579391Z"
    }
   },
   "outputs": [
    {
     "name": "stdout",
     "output_type": "stream",
     "text": [
      "REPOSITORY                                                   TAG       IMAGE ID       CREATED         SIZE\n",
      "utec-mlops/ricardo-puma/online-prediction/api/rest/fastapi   latest    94ccfda130af   7 seconds ago   2.43GB\n"
     ]
    }
   ],
   "source": [
    "!docker images"
   ]
  },
  {
   "cell_type": "markdown",
   "id": "2fc97fdb-e502-4659-b666-1b406365151c",
   "metadata": {},
   "source": [
    "# Login to ECR"
   ]
  },
  {
   "cell_type": "code",
   "execution_count": null,
   "id": "c1b5fe6a-d082-4993-a0b8-9c30bb031352",
   "metadata": {
    "execution": {
     "iopub.execute_input": "2025-06-12T06:39:28.119484Z",
     "iopub.status.busy": "2025-06-12T06:39:28.118880Z",
     "iopub.status.idle": "2025-06-12T06:39:28.122652Z",
     "shell.execute_reply": "2025-06-12T06:39:28.121827Z",
     "shell.execute_reply.started": "2025-06-12T06:39:28.119457Z"
    }
   },
   "outputs": [],
   "source": [
    "ecr_url = \"654654589924.dkr.ecr.us-east-1.amazonaws.com\""
   ]
  },
  {
   "cell_type": "code",
   "execution_count": 166,
   "id": "45d72c83-24ed-419c-a69b-52be11d9a506",
   "metadata": {
    "execution": {
     "iopub.execute_input": "2025-06-12T04:44:37.111791Z",
     "iopub.status.busy": "2025-06-12T04:44:37.111207Z",
     "iopub.status.idle": "2025-06-12T04:44:38.733938Z",
     "shell.execute_reply": "2025-06-12T04:44:38.732948Z",
     "shell.execute_reply.started": "2025-06-12T04:44:37.111767Z"
    }
   },
   "outputs": [
    {
     "name": "stdout",
     "output_type": "stream",
     "text": [
      "WARNING! Your password will be stored unencrypted in /home/sagemaker-user/.docker/config.json.\n",
      "Configure a credential helper to remove this warning. See\n",
      "https://docs.docker.com/engine/reference/commandline/login/#credential-stores\n",
      "\n",
      "Login Succeeded\n"
     ]
    }
   ],
   "source": [
    "!aws ecr get-login-password --region us-east-1 | docker login --username AWS --password-stdin $ecr_url"
   ]
  },
  {
   "cell_type": "markdown",
   "id": "6dbbfacc-ac47-404d-b41e-74627361e88e",
   "metadata": {},
   "source": [
    "# Tag image"
   ]
  },
  {
   "cell_type": "code",
   "execution_count": 44,
   "id": "408b3111-0b8c-400a-847d-bf059e08e180",
   "metadata": {
    "execution": {
     "iopub.execute_input": "2025-06-12T06:39:32.048990Z",
     "iopub.status.busy": "2025-06-12T06:39:32.048330Z",
     "iopub.status.idle": "2025-06-12T06:39:32.052846Z",
     "shell.execute_reply": "2025-06-12T06:39:32.052256Z",
     "shell.execute_reply.started": "2025-06-12T06:39:32.048962Z"
    }
   },
   "outputs": [
    {
     "name": "stdout",
     "output_type": "stream",
     "text": [
      "utec-mlops/ricardo-puma/online-prediction/api/rest/fastapi:latest\n",
      "635106763104.dkr.ecr.us-east-1.amazonaws.com/utec-mlops/ricardo-puma/online-prediction/api/rest/fastapi:latest\n"
     ]
    }
   ],
   "source": [
    "tag_name = f\"{repository_name}:latest\"\n",
    "full_tag_name = f\"{ecr_url}/{tag_name}\"\n",
    "print(tag_name)\n",
    "print(full_tag_name)"
   ]
  },
  {
   "cell_type": "code",
   "execution_count": 168,
   "id": "8fef7a3f-c398-4cd9-bfd6-5b46d5ea42dd",
   "metadata": {
    "execution": {
     "iopub.execute_input": "2025-06-12T04:44:42.253115Z",
     "iopub.status.busy": "2025-06-12T04:44:42.252558Z",
     "iopub.status.idle": "2025-06-12T04:44:42.442583Z",
     "shell.execute_reply": "2025-06-12T04:44:42.441438Z",
     "shell.execute_reply.started": "2025-06-12T04:44:42.253085Z"
    }
   },
   "outputs": [],
   "source": [
    "!docker tag $tag_name $full_tag_name"
   ]
  },
  {
   "cell_type": "markdown",
   "id": "ede93500-0e61-4bf0-bf69-c0219224d26f",
   "metadata": {},
   "source": [
    "# Checking current images"
   ]
  },
  {
   "cell_type": "code",
   "execution_count": 169,
   "id": "10fd6fb2-44ad-42f0-9a0b-920a89959009",
   "metadata": {
    "execution": {
     "iopub.execute_input": "2025-06-12T04:44:44.063432Z",
     "iopub.status.busy": "2025-06-12T04:44:44.062827Z",
     "iopub.status.idle": "2025-06-12T04:44:44.245710Z",
     "shell.execute_reply": "2025-06-12T04:44:44.244832Z",
     "shell.execute_reply.started": "2025-06-12T04:44:44.063399Z"
    }
   },
   "outputs": [
    {
     "name": "stdout",
     "output_type": "stream",
     "text": [
      "REPOSITORY                                                                                                TAG       IMAGE ID       CREATED          SIZE\n",
      "635106763104.dkr.ecr.us-east-1.amazonaws.com/utec-mlops/ricardo-puma/online-prediction/api/rest/fastapi   latest    94ccfda130af   18 seconds ago   2.43GB\n",
      "utec-mlops/ricardo-puma/online-prediction/api/rest/fastapi                                                latest    94ccfda130af   18 seconds ago   2.43GB\n"
     ]
    }
   ],
   "source": [
    "!docker images"
   ]
  },
  {
   "cell_type": "markdown",
   "id": "946dd369-bcdf-4dae-a0df-89333fb68e3e",
   "metadata": {},
   "source": [
    "# Push image to ECR"
   ]
  },
  {
   "cell_type": "code",
   "execution_count": 170,
   "id": "98c6e395-c151-4c9c-ada9-84e985413301",
   "metadata": {
    "execution": {
     "iopub.execute_input": "2025-06-12T04:44:46.913355Z",
     "iopub.status.busy": "2025-06-12T04:44:46.912790Z",
     "iopub.status.idle": "2025-06-12T04:46:03.249822Z",
     "shell.execute_reply": "2025-06-12T04:46:03.248839Z",
     "shell.execute_reply.started": "2025-06-12T04:44:46.913323Z"
    }
   },
   "outputs": [
    {
     "name": "stdout",
     "output_type": "stream",
     "text": [
      "The push refers to repository [635106763104.dkr.ecr.us-east-1.amazonaws.com/utec-mlops/ricardo-puma/online-prediction/api/rest/fastapi]\n",
      "\n",
      "\u001b[1B19f50cc0: Preparing \n",
      "\u001b[1B939e7de8: Preparing \n",
      "\u001b[1B1c71f6cb: Preparing \n",
      "\u001b[1B30ccc3fe: Preparing \n",
      "\u001b[1B710ca3c7: Preparing \n",
      "\u001b[1Be4d52b5a: Preparing \n",
      "\u001b[1B8afd69b3: Preparing \n",
      "\u001b[1B433c3a29: Preparing \n",
      "\u001b[1Bc7a486d9: Preparing \n",
      "\u001b[1Ba6961052: Preparing \n",
      "\u001b[11Blatest: digest: sha256:a1271b0f5224ecf2d7f29c74b251114f4f837f254ea24cf18b0c2aa9c217b94c size: 2630\n"
     ]
    }
   ],
   "source": [
    "!docker push $full_tag_name"
   ]
  },
  {
   "cell_type": "markdown",
   "id": "ae51cece-3b99-40de-8a15-53ad48df2bd3",
   "metadata": {},
   "source": [
    "# Create App Runner Service"
   ]
  },
  {
   "cell_type": "code",
   "execution_count": 64,
   "id": "914dbca0-0c6a-40a5-b67b-b70e772251b8",
   "metadata": {
    "execution": {
     "iopub.execute_input": "2025-06-12T06:58:30.190258Z",
     "iopub.status.busy": "2025-06-12T06:58:30.189294Z",
     "iopub.status.idle": "2025-06-12T06:58:30.193941Z",
     "shell.execute_reply": "2025-06-12T06:58:30.192996Z",
     "shell.execute_reply.started": "2025-06-12T06:58:30.190223Z"
    }
   },
   "outputs": [],
   "source": [
    "service_name = f\"utec-mlops-{user}-fastapi\"\n",
    "app_runner_role = \"arn:aws:iam::635106763104:role/service-role/AppRunnerECRAccessRole\""
   ]
  },
  {
   "cell_type": "code",
   "execution_count": 68,
   "id": "101c5434-2c49-405d-a302-aa6816c8769a",
   "metadata": {
    "execution": {
     "iopub.execute_input": "2025-06-12T07:09:37.487057Z",
     "iopub.status.busy": "2025-06-12T07:09:37.486694Z",
     "iopub.status.idle": "2025-06-12T07:09:37.491222Z",
     "shell.execute_reply": "2025-06-12T07:09:37.490399Z",
     "shell.execute_reply.started": "2025-06-12T07:09:37.487028Z"
    }
   },
   "outputs": [],
   "source": [
    "conf = {\n",
    "    \"ServiceName\": service_name,\n",
    "    \"SourceConfiguration\": {\n",
    "        \"AuthenticationConfiguration\": {\n",
    "            \"AccessRoleArn\": app_runner_role\n",
    "        },\n",
    "        \"ImageRepository\": {\n",
    "            \"ImageIdentifier\": full_tag_name,\n",
    "            \"ImageConfiguration\": {\n",
    "                \"Port\": \"8000\"\n",
    "            },\n",
    "            \"ImageRepositoryType\": \"ECR\"\n",
    "        }\n",
    "    },\n",
    "    \"InstanceConfiguration\": {\n",
    "        \"Cpu\": \"2 vCPU\",\n",
    "        \"Memory\": \"4 GB\"\n",
    "    }\n",
    "}"
   ]
  },
  {
   "cell_type": "code",
   "execution_count": 69,
   "id": "2abe1d43-675a-45eb-934e-274d6c0083c4",
   "metadata": {
    "execution": {
     "iopub.execute_input": "2025-06-12T07:09:48.405103Z",
     "iopub.status.busy": "2025-06-12T07:09:48.404408Z",
     "iopub.status.idle": "2025-06-12T07:09:48.408576Z",
     "shell.execute_reply": "2025-06-12T07:09:48.407831Z",
     "shell.execute_reply.started": "2025-06-12T07:09:48.405074Z"
    }
   },
   "outputs": [],
   "source": [
    "with open('app_runner_config.json', 'w') as f:\n",
    "    json.dump(conf, f)"
   ]
  },
  {
   "cell_type": "code",
   "execution_count": 70,
   "id": "7c41d8aa-2a43-41d7-9963-fbf10258f18d",
   "metadata": {
    "execution": {
     "iopub.execute_input": "2025-06-12T07:10:17.989338Z",
     "iopub.status.busy": "2025-06-12T07:10:17.988687Z",
     "iopub.status.idle": "2025-06-12T07:10:19.376467Z",
     "shell.execute_reply": "2025-06-12T07:10:19.375698Z",
     "shell.execute_reply.started": "2025-06-12T07:10:17.989310Z"
    }
   },
   "outputs": [
    {
     "name": "stdout",
     "output_type": "stream",
     "text": [
      "{\n",
      "    \"Service\": {\n",
      "        \"ServiceName\": \"utec-mlops-ricardo-puma-fastapi\",\n",
      "        \"ServiceId\": \"60ef59b9affe4b759b94407ddc974ddf\",\n",
      "        \"ServiceArn\": \"arn:aws:apprunner:us-east-1:635106763104:service/utec-mlops-ricardo-puma-fastapi/60ef59b9affe4b759b94407ddc974ddf\",\n",
      "        \"ServiceUrl\": \"c5ar3bmsn6.us-east-1.awsapprunner.com\",\n",
      "        \"CreatedAt\": \"2025-06-12T07:10:18.847000+00:00\",\n",
      "        \"UpdatedAt\": \"2025-06-12T07:10:18.847000+00:00\",\n",
      "        \"Status\": \"OPERATION_IN_PROGRESS\",\n",
      "        \"SourceConfiguration\": {\n",
      "            \"ImageRepository\": {\n",
      "                \"ImageIdentifier\": \"635106763104.dkr.ecr.us-east-1.amazonaws.com/utec-mlops/ricardo-puma/online-prediction/api/rest/fastapi:latest\",\n",
      "                \"ImageConfiguration\": {\n",
      "                    \"Port\": \"8000\"\n",
      "                },\n",
      "                \"ImageRepositoryType\": \"ECR\"\n",
      "            },\n",
      "            \"AutoDeploymentsEnabled\": false,\n",
      "            \"AuthenticationConfiguration\": {\n",
      "                \"AccessRoleArn\": \"arn:aws:iam::635106763104:role/service-role/AppRunnerECRAccessRole\"\n",
      "            }\n",
      "        },\n",
      "        \"InstanceConfiguration\": {\n",
      "            \"Cpu\": \"2048\",\n",
      "            \"Memory\": \"4096\"\n",
      "        },\n",
      "        \"HealthCheckConfiguration\": {\n",
      "            \"Protocol\": \"TCP\",\n",
      "            \"Path\": \"/\",\n",
      "            \"Interval\": 5,\n",
      "            \"Timeout\": 2,\n",
      "            \"HealthyThreshold\": 1,\n",
      "            \"UnhealthyThreshold\": 5\n",
      "        },\n",
      "        \"AutoScalingConfigurationSummary\": {\n",
      "            \"AutoScalingConfigurationArn\": \"arn:aws:apprunner:us-east-1:635106763104:autoscalingconfiguration/DefaultConfiguration/1/00000000000000000000000000000001\",\n",
      "            \"AutoScalingConfigurationName\": \"DefaultConfiguration\",\n",
      "            \"AutoScalingConfigurationRevision\": 1\n",
      "        },\n",
      "        \"NetworkConfiguration\": {\n",
      "            \"EgressConfiguration\": {\n",
      "                \"EgressType\": \"DEFAULT\"\n",
      "            },\n",
      "            \"IngressConfiguration\": {\n",
      "                \"IsPubliclyAccessible\": true\n",
      "            },\n",
      "            \"IpAddressType\": \"IPV4\"\n",
      "        }\n",
      "    },\n",
      "    \"OperationId\": \"2ee8c997b563430c99713eb1330e06fe\"\n",
      "}\n"
     ]
    }
   ],
   "source": [
    "!aws apprunner create-service --cli-input-json file://app_runner_config.json"
   ]
  },
  {
   "cell_type": "markdown",
   "id": "22b466e2-29ff-4ecf-b080-0c64b937720b",
   "metadata": {},
   "source": [
    "# Testing the Model API"
   ]
  },
  {
   "cell_type": "code",
   "execution_count": 72,
   "id": "ecfd10b7-0fb7-46cc-b936-b08faecc72b2",
   "metadata": {
    "execution": {
     "iopub.execute_input": "2025-06-12T07:17:52.353765Z",
     "iopub.status.busy": "2025-06-12T07:17:52.353327Z",
     "iopub.status.idle": "2025-06-12T07:17:52.715449Z",
     "shell.execute_reply": "2025-06-12T07:17:52.714368Z",
     "shell.execute_reply.started": "2025-06-12T07:17:52.353738Z"
    }
   },
   "outputs": [
    {
     "name": "stdout",
     "output_type": "stream",
     "text": [
      "{\"prediction\":0.0018256510375067592}"
     ]
    }
   ],
   "source": [
    "!curl -X POST \"<Default domain>/predict/\" \\\n",
    "  -H \"Content-Type: application/json\" \\\n",
    "  -d '{\"features\": [1,2,3,4,5]}'"
   ]
  },
  {
   "cell_type": "code",
   "execution_count": null,
   "id": "fa60694d-29ff-4719-bfa3-1db3a933c9c0",
   "metadata": {},
   "outputs": [],
   "source": [
    "# 1)\n",
    "# Try it out in https://reqbin.com/ \n",
    "# with the body:\n",
    "# {\"features\": [1,2,3,4,5]}"
   ]
  },
  {
   "cell_type": "code",
   "execution_count": null,
   "id": "944f6cb5-076b-4c86-86e0-0c5fd895c1d9",
   "metadata": {},
   "outputs": [],
   "source": [
    "# 2)\n",
    "# Download the file \"card_fraud_detection_portal.html\"\n",
    "# replace the API domain in the file and open the file in your browser "
   ]
  },
  {
   "cell_type": "markdown",
   "id": "97b62b0a-4710-450d-9fc4-b05bd352bf89",
   "metadata": {},
   "source": [
    "# Delete Image"
   ]
  },
  {
   "cell_type": "code",
   "execution_count": null,
   "id": "9bd6b9ec-c82e-4a50-88ed-c92434ff6a1e",
   "metadata": {},
   "outputs": [],
   "source": [
    "!docker rmi <IMAGE_ID>   \n",
    "!docker rmi <FULL_TAG_NAME>"
   ]
  },
  {
   "cell_type": "code",
   "execution_count": 162,
   "id": "b23f41aa-0d9d-4db7-89e3-8ecb51a7a6d9",
   "metadata": {
    "execution": {
     "iopub.execute_input": "2025-06-12T04:42:43.109960Z",
     "iopub.status.busy": "2025-06-12T04:42:43.109617Z",
     "iopub.status.idle": "2025-06-12T04:42:43.295569Z",
     "shell.execute_reply": "2025-06-12T04:42:43.294605Z",
     "shell.execute_reply.started": "2025-06-12T04:42:43.109933Z"
    }
   },
   "outputs": [
    {
     "name": "stdout",
     "output_type": "stream",
     "text": [
      "REPOSITORY   TAG       IMAGE ID   CREATED   SIZE\n"
     ]
    }
   ],
   "source": [
    "!docker images"
   ]
  }
 ],
 "metadata": {
  "kernelspec": {
   "display_name": "Python 3 (ipykernel)",
   "language": "python",
   "name": "python3"
  },
  "language_info": {
   "codemirror_mode": {
    "name": "ipython",
    "version": 3
   },
   "file_extension": ".py",
   "mimetype": "text/x-python",
   "name": "python",
   "nbconvert_exporter": "python",
   "pygments_lexer": "ipython3",
   "version": "3.12.9"
  }
 },
 "nbformat": 4,
 "nbformat_minor": 5
}
